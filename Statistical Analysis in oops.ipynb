{
  "nbformat": 4,
  "nbformat_minor": 0,
  "metadata": {
    "colab": {
      "provenance": []
    },
    "kernelspec": {
      "name": "python3",
      "display_name": "Python 3"
    },
    "language_info": {
      "name": "python"
    }
  },
  "cells": [
    {
      "cell_type": "code",
      "source": [
        "import pandas as pd\n",
        "\n",
        "class DataFrameAnalyzer: ### Constructer\n",
        "    def __init__(self, data_frame):\n",
        "        self.data_frame = data_frame\n",
        "\n",
        "    def summary_statistics(self): #method\n",
        "        return self.data_frame.describe()\n",
        "\n",
        "    def column_mean(self, column_name): #method\n",
        "        return self.data_frame[column_name].mean()\n",
        "\n",
        "    def column_median(self, column_name): #method\n",
        "        return self.data_frame[column_name].median()\n",
        "\n",
        "    def unique_values(self, column_name): #method\n",
        "        return self.data_frame[column_name].unique()"
      ],
      "metadata": {
        "id": "_khBX1kNgqgS"
      },
      "execution_count": null,
      "outputs": []
    },
    {
      "cell_type": "code",
      "source": [
        "# Example usage:\n",
        "data = {\n",
        "    'Name': ['Alice', 'Bob', 'Charlie', 'David'],\n",
        "    'Age': [25, 30, 22, 35],\n",
        "    'Salary': [50000, 60000, 45000, 70000]\n",
        "} ### Object\n",
        "\n",
        "df = pd.DataFrame(data)\n",
        "analyzer = DataFrameAnalyzer(df)\n",
        "\n",
        "print(\"Summary Statistics:\")\n",
        "print(analyzer.summary_statistics())\n",
        "\n",
        "print(\"\\nMean Age:\", analyzer.column_mean('Age'))\n",
        "print(\"Median Salary:\", analyzer.column_median('Salary'))\n",
        "\n",
        "print(\"\\nUnique Names:\", analyzer.unique_values('Name'))"
      ],
      "metadata": {
        "colab": {
          "base_uri": "https://localhost:8080/"
        },
        "id": "16s6pzs2g0J7",
        "outputId": "103864ee-76d9-4e57-c611-c1c8554b14f8"
      },
      "execution_count": null,
      "outputs": [
        {
          "output_type": "stream",
          "name": "stdout",
          "text": [
            "Summary Statistics:\n",
            "             Age        Salary\n",
            "count   4.000000      4.000000\n",
            "mean   28.000000  56250.000000\n",
            "std     5.715476  11086.778913\n",
            "min    22.000000  45000.000000\n",
            "25%    24.250000  48750.000000\n",
            "50%    27.500000  55000.000000\n",
            "75%    31.250000  62500.000000\n",
            "max    35.000000  70000.000000\n",
            "\n",
            "Mean Age: 28.0\n",
            "Median Salary: 55000.0\n",
            "\n",
            "Unique Names: ['Alice' 'Bob' 'Charlie' 'David']\n"
          ]
        }
      ]
    }
  ]
}